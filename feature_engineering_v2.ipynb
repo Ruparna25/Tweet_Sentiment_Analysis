{
 "cells": [
  {
   "cell_type": "code",
   "execution_count": 4,
   "id": "d0eb4f16-5a99-460d-a5ba-706b7ef0bbe7",
   "metadata": {
    "id": "bA5ajAmk7XH6"
   },
   "outputs": [],
   "source": [
    "import pandas as pd"
   ]
  },
  {
   "cell_type": "markdown",
   "id": "81ed14a0-ee7d-49e7-8caf-71ee6a0fdc36",
   "metadata": {},
   "source": [
    "#Steps implemented for feature engineering\n",
    "1. Import the Data\n",
    "2. Remove the null record from the data"
   ]
  },
  {
   "cell_type": "code",
   "execution_count": 5,
   "id": "220f83ee-168e-4dee-8175-1d4042bf1bfa",
   "metadata": {},
   "outputs": [],
   "source": [
    "#Reading the input data\n",
    "tweet_tr=pd.read_csv('train.csv')\n",
    "tweet_tst=pd.read_csv('test.csv')"
   ]
  },
  {
   "cell_type": "code",
   "execution_count": 6,
   "id": "8518757e-df49-4c3a-9d82-f058e9951cd5",
   "metadata": {},
   "outputs": [
    {
     "data": {
      "text/html": [
       "<div>\n",
       "<style scoped>\n",
       "    .dataframe tbody tr th:only-of-type {\n",
       "        vertical-align: middle;\n",
       "    }\n",
       "\n",
       "    .dataframe tbody tr th {\n",
       "        vertical-align: top;\n",
       "    }\n",
       "\n",
       "    .dataframe thead th {\n",
       "        text-align: right;\n",
       "    }\n",
       "</style>\n",
       "<table border=\"1\" class=\"dataframe\">\n",
       "  <thead>\n",
       "    <tr style=\"text-align: right;\">\n",
       "      <th></th>\n",
       "      <th>textID</th>\n",
       "      <th>text</th>\n",
       "      <th>selected_text</th>\n",
       "      <th>sentiment</th>\n",
       "    </tr>\n",
       "  </thead>\n",
       "  <tbody>\n",
       "    <tr>\n",
       "      <th>0</th>\n",
       "      <td>cb774db0d1</td>\n",
       "      <td>I`d have responded, if I were going</td>\n",
       "      <td>I`d have responded, if I were going</td>\n",
       "      <td>neutral</td>\n",
       "    </tr>\n",
       "    <tr>\n",
       "      <th>1</th>\n",
       "      <td>549e992a42</td>\n",
       "      <td>Sooo SAD I will miss you here in San Diego!!!</td>\n",
       "      <td>Sooo SAD</td>\n",
       "      <td>negative</td>\n",
       "    </tr>\n",
       "    <tr>\n",
       "      <th>2</th>\n",
       "      <td>088c60f138</td>\n",
       "      <td>my boss is bullying me...</td>\n",
       "      <td>bullying me</td>\n",
       "      <td>negative</td>\n",
       "    </tr>\n",
       "    <tr>\n",
       "      <th>3</th>\n",
       "      <td>9642c003ef</td>\n",
       "      <td>what interview! leave me alone</td>\n",
       "      <td>leave me alone</td>\n",
       "      <td>negative</td>\n",
       "    </tr>\n",
       "    <tr>\n",
       "      <th>4</th>\n",
       "      <td>358bd9e861</td>\n",
       "      <td>Sons of ****, why couldn`t they put them on t...</td>\n",
       "      <td>Sons of ****,</td>\n",
       "      <td>negative</td>\n",
       "    </tr>\n",
       "  </tbody>\n",
       "</table>\n",
       "</div>"
      ],
      "text/plain": [
       "       textID                                               text  \\\n",
       "0  cb774db0d1                I`d have responded, if I were going   \n",
       "1  549e992a42      Sooo SAD I will miss you here in San Diego!!!   \n",
       "2  088c60f138                          my boss is bullying me...   \n",
       "3  9642c003ef                     what interview! leave me alone   \n",
       "4  358bd9e861   Sons of ****, why couldn`t they put them on t...   \n",
       "\n",
       "                         selected_text sentiment  \n",
       "0  I`d have responded, if I were going   neutral  \n",
       "1                             Sooo SAD  negative  \n",
       "2                          bullying me  negative  \n",
       "3                       leave me alone  negative  \n",
       "4                        Sons of ****,  negative  "
      ]
     },
     "execution_count": 6,
     "metadata": {},
     "output_type": "execute_result"
    }
   ],
   "source": [
    "tweet_tr.head()"
   ]
  },
  {
   "cell_type": "code",
   "execution_count": 7,
   "id": "dae1ca85-e907-4973-b447-92c917bee76b",
   "metadata": {},
   "outputs": [
    {
     "name": "stdout",
     "output_type": "stream",
     "text": [
      "<class 'pandas.core.frame.DataFrame'>\n",
      "RangeIndex: 27481 entries, 0 to 27480\n",
      "Data columns (total 4 columns):\n",
      " #   Column         Non-Null Count  Dtype \n",
      "---  ------         --------------  ----- \n",
      " 0   textID         27481 non-null  object\n",
      " 1   text           27480 non-null  object\n",
      " 2   selected_text  27480 non-null  object\n",
      " 3   sentiment      27481 non-null  object\n",
      "dtypes: object(4)\n",
      "memory usage: 858.9+ KB\n"
     ]
    }
   ],
   "source": [
    "tweet_tr.info()"
   ]
  },
  {
   "cell_type": "code",
   "execution_count": 8,
   "id": "7ab02b52-b297-4128-a63d-c0c7433d6ca1",
   "metadata": {},
   "outputs": [
    {
     "name": "stdout",
     "output_type": "stream",
     "text": [
      "         textID text selected_text sentiment\n",
      "314  fdb77c3752  NaN           NaN   neutral\n"
     ]
    }
   ],
   "source": [
    "print(tweet_tr[tweet_tr['text'].isnull()==True])"
   ]
  },
  {
   "cell_type": "code",
   "execution_count": 9,
   "id": "a842c8a7-26ca-457b-be13-022cc58aad5d",
   "metadata": {},
   "outputs": [],
   "source": [
    "#Deleting the null row of data\n",
    "tweet_tr=tweet_tr.drop(labels=[314],axis=0)"
   ]
  },
  {
   "cell_type": "code",
   "execution_count": 10,
   "id": "2c508872-5f33-433b-a81b-0a450cf1016a",
   "metadata": {},
   "outputs": [
    {
     "name": "stdout",
     "output_type": "stream",
     "text": [
      "<class 'pandas.core.frame.DataFrame'>\n",
      "Int64Index: 27480 entries, 0 to 27480\n",
      "Data columns (total 4 columns):\n",
      " #   Column         Non-Null Count  Dtype \n",
      "---  ------         --------------  ----- \n",
      " 0   textID         27480 non-null  object\n",
      " 1   text           27480 non-null  object\n",
      " 2   selected_text  27480 non-null  object\n",
      " 3   sentiment      27480 non-null  object\n",
      "dtypes: object(4)\n",
      "memory usage: 1.0+ MB\n"
     ]
    }
   ],
   "source": [
    "tweet_tr.info()"
   ]
  },
  {
   "cell_type": "code",
   "execution_count": 11,
   "id": "821b1dfc-2d65-44bd-95fd-c743e3e1cb09",
   "metadata": {},
   "outputs": [
    {
     "name": "stdout",
     "output_type": "stream",
     "text": [
      "<class 'pandas.core.frame.DataFrame'>\n",
      "RangeIndex: 3534 entries, 0 to 3533\n",
      "Data columns (total 3 columns):\n",
      " #   Column     Non-Null Count  Dtype \n",
      "---  ------     --------------  ----- \n",
      " 0   textID     3534 non-null   object\n",
      " 1   text       3534 non-null   object\n",
      " 2   sentiment  3534 non-null   object\n",
      "dtypes: object(3)\n",
      "memory usage: 83.0+ KB\n"
     ]
    }
   ],
   "source": [
    "#Checking test data for null\n",
    "tweet_tst.info()"
   ]
  },
  {
   "cell_type": "markdown",
   "id": "b0d08aa0-73fd-4377-baa0-7db9e4b04692",
   "metadata": {},
   "source": [
    "#All records in test set is clean"
   ]
  },
  {
   "cell_type": "code",
   "execution_count": 12,
   "id": "82c0c922-b31e-458b-9326-9e28fc2642c3",
   "metadata": {},
   "outputs": [
    {
     "name": "stdout",
     "output_type": "stream",
     "text": [
      "542\n",
      "76\n"
     ]
    }
   ],
   "source": [
    "#Check for hashtags in text and select_text\n",
    "text_hash=[]\n",
    "idx=0\n",
    "for i in tweet_tr['text']:\n",
    "    if '#' in i:\n",
    "        text_hash.append(idx)\n",
    "    idx+=1\n",
    "print(len(text_hash))\n",
    "select_text_hash=[]\n",
    "idx=0\n",
    "for i in tweet_tst['text']:\n",
    "    if '#' in i:\n",
    "        select_text_hash.append(idx)\n",
    "    idx+=1\n",
    "print(len(select_text_hash))"
   ]
  },
  {
   "cell_type": "markdown",
   "id": "5a909e63-2398-40f8-aa7d-0c7c076072b0",
   "metadata": {},
   "source": [
    "As both the columns 'text' as well as 'select_text' contains # so we will keep the hastag"
   ]
  },
  {
   "cell_type": "code",
   "execution_count": 13,
   "id": "4becf26b-dadb-4f13-a28c-9b64a6984fc6",
   "metadata": {},
   "outputs": [
    {
     "data": {
      "text/plain": [
       "neutral     11117\n",
       "positive     8582\n",
       "negative     7781\n",
       "Name: sentiment, dtype: int64"
      ]
     },
     "execution_count": 13,
     "metadata": {},
     "output_type": "execute_result"
    }
   ],
   "source": [
    "tweet_tr['sentiment'].value_counts()"
   ]
  },
  {
   "cell_type": "code",
   "execution_count": 14,
   "id": "eb4dad7b-da79-42bf-bee3-0aa7a9004124",
   "metadata": {},
   "outputs": [],
   "source": [
    "#Converting the tweets to lowercase\n",
    "tweet_tr['text']=tweet_tr['text'].apply(lambda x: x.lower())\n",
    "tweet_tst['text']=tweet_tst['text'].apply(lambda x: x.lower())"
   ]
  },
  {
   "cell_type": "code",
   "execution_count": 15,
   "id": "eab7a0c4-7390-43a1-b471-6e2db6b30139",
   "metadata": {},
   "outputs": [
    {
     "name": "stdout",
     "output_type": "stream",
     "text": [
      "{'neutral': 839, 'positive': 715, 'negative': 602}\n"
     ]
    }
   ],
   "source": [
    "#Some engineering work to check what numeric data are present in the text field and in which category can be grouped under\n",
    "import regex as re\n",
    "#tweet_tr['text']=re.sub('\\d+',\" \",tweet_tr['text'])\n",
    "dict={'neutral':0,'positive':0,'negative':0}\n",
    "for i,j in enumerate(tweet_tr['selected_text']):\n",
    "    if len(re.findall('\\d+',str(j)))>0 :\n",
    "        if tweet_tr.loc[i,'sentiment'] == 'positive':\n",
    "            dict['positive']+=1\n",
    "        elif tweet_tr.loc[i,'sentiment'] == 'negative':\n",
    "            dict['negative']+=1\n",
    "        else:\n",
    "            dict['neutral']+=1\n",
    "print(dict)"
   ]
  },
  {
   "cell_type": "code",
   "execution_count": 16,
   "id": "51b19c19-d8a8-42c1-8619-7fcbaa6719c4",
   "metadata": {},
   "outputs": [],
   "source": [
    "#Before creating the feature vector split the data into train and valid set\n",
    "from sklearn.model_selection import train_test_split\n",
    "X_train,X_valid=train_test_split(tweet_tr,test_size=0.2,random_state=42)"
   ]
  },
  {
   "cell_type": "code",
   "execution_count": 17,
   "id": "ddc09e95-bd54-4c52-9aa4-30504e967542",
   "metadata": {},
   "outputs": [],
   "source": [
    "#Seggregating the data into 3 sets for the classes\n",
    "X_pos=X_train[X_train['sentiment']=='positive']\n",
    "X_neg=X_train[X_train['sentiment']=='negative']\n",
    "X_neutral=X_train[X_train['sentiment']=='neutral']"
   ]
  },
  {
   "cell_type": "code",
   "execution_count": 35,
   "id": "5b147554-d98a-4ee4-b618-5cfece6204ae",
   "metadata": {},
   "outputs": [],
   "source": [
    "#word vector for each class\n",
    "from sklearn.feature_extraction.text import CountVectorizer\n",
    "\n",
    "cv=CountVectorizer(max_df=0.95, min_df=2,max_features=10000,stop_words='english')\n",
    "\n",
    "conv_X_train=cv.fit_transform(X_train['text'])\n",
    "\n",
    "conv_pos=cv.transform(X_pos['text'])\n",
    "conv_neg=cv.transform(X_neg['text'])\n",
    "conv_neutral=cv.transform(X_neutral['text'])"
   ]
  },
  {
   "cell_type": "code",
   "execution_count": 36,
   "id": "6dfeb0bb-2391-4db4-80a4-70358bacc640",
   "metadata": {},
   "outputs": [
    {
     "data": {
      "text/plain": [
       "(6894, 8530)"
      ]
     },
     "execution_count": 36,
     "metadata": {},
     "output_type": "execute_result"
    }
   ],
   "source": [
    "conv_pos.toarray().shape"
   ]
  },
  {
   "cell_type": "code",
   "execution_count": 38,
   "id": "1b27f547-f9a4-43e4-8fac-f905646b669d",
   "metadata": {},
   "outputs": [],
   "source": [
    "#Converting the word vector into dataframe\n",
    "\n",
    "train_pos=pd.DataFrame(conv_pos.toarray(),columns=cv.get_feature_names())\n",
    "train_neg=pd.DataFrame(conv_neg.toarray(),columns=cv.get_feature_names())\n",
    "train_neutral=pd.DataFrame(conv_neutral.toarray(),columns=cv.get_feature_names())"
   ]
  },
  {
   "cell_type": "code",
   "execution_count": 41,
   "id": "2a9a8f13-3f50-4b48-ab4d-dff2bcee6538",
   "metadata": {},
   "outputs": [
    {
     "data": {
      "text/plain": [
       "Index(['00', '000', '01', '03', '04', '05', '06', '07', '08', '09',\n",
       "       ...\n",
       "       '½6', '½a', '½m', '½n', '½re', '½s', '½t', '½ve', '½you', '½ï'],\n",
       "      dtype='object', length=8530)"
      ]
     },
     "execution_count": 41,
     "metadata": {},
     "output_type": "execute_result"
    }
   ],
   "source": [
    "train_neg.columns"
   ]
  },
  {
   "cell_type": "code",
   "execution_count": 47,
   "id": "5e40ab0f-7008-4e90-8016-4406c1d65cdb",
   "metadata": {},
   "outputs": [],
   "source": [
    "#Creating dictionary for positive, negative and neutral, so normalize the sum it has been divided by the number of rows for each class type\n",
    "pos_df={}\n",
    "neg_df={}\n",
    "neutral_df={}\n",
    "\n",
    "for k in cv.get_feature_names():\n",
    "    pos_sum=train_pos[k].sum()\n",
    "    neg_sum=train_neg[k].sum()\n",
    "    neutral_sum=train_neutral[k].sum()\n",
    "    \n",
    "    pos_df[k]=pos_sum/X_pos.shape[0]\n",
    "    neg_df[k]=neg_sum/X_neg.shape[0]\n",
    "    neutral_df[k]=neutral_sum/X_neutral.shape[0]"
   ]
  },
  {
   "cell_type": "code",
   "execution_count": 51,
   "id": "54086bae-f46e-4396-a043-f680edeb46d8",
   "metadata": {},
   "outputs": [],
   "source": [
    "pos_dict={}\n",
    "neg_dict={}\n",
    "neutral_dict={}\n",
    "\n",
    "for key, value in pos_df.items():\n",
    "    pos_dict[key]=pos_df[k]-(neutral_df[k]+neg_df[k])\n",
    "    \n",
    "for key, value in neg_df.items():\n",
    "    neg_dict[key]=neg_df[k]-(neutral_df[k]+pos_df[k])\n",
    "    \n",
    "for key, value in neutral_df.items():\n",
    "    neutral_dict[key]=neutral_df[k]-(pos_df[k]+neg_df[k])"
   ]
  },
  {
   "cell_type": "code",
   "execution_count": null,
   "id": "db2aebc1-7c53-4988-8f65-c1bb7fc1b753",
   "metadata": {},
   "outputs": [],
   "source": []
  }
 ],
 "metadata": {
  "colab": {
   "name": "Welcome to DataCamp Workspaces.ipynb",
   "provenance": []
  },
  "kernelspec": {
   "display_name": "Python 3 (ipykernel)",
   "language": "python",
   "name": "python3"
  },
  "language_info": {
   "codemirror_mode": {
    "name": "ipython",
    "version": 3
   },
   "file_extension": ".py",
   "mimetype": "text/x-python",
   "name": "python",
   "nbconvert_exporter": "python",
   "pygments_lexer": "ipython3",
   "version": "3.8.10"
  }
 },
 "nbformat": 4,
 "nbformat_minor": 5
}
