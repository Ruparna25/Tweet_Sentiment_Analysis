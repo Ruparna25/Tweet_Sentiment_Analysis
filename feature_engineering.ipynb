{
 "cells": [
  {
   "cell_type": "code",
   "execution_count": 1,
   "id": "d0eb4f16-5a99-460d-a5ba-706b7ef0bbe7",
   "metadata": {
    "id": "bA5ajAmk7XH6"
   },
   "outputs": [],
   "source": [
    "import pandas as pd"
   ]
  },
  {
   "cell_type": "markdown",
   "id": "81ed14a0-ee7d-49e7-8caf-71ee6a0fdc36",
   "metadata": {},
   "source": [
    "#Steps implemented for feature engineering\n",
    "1. Import the Data\n",
    "2. Remove the null record from the data"
   ]
  },
  {
   "cell_type": "code",
   "execution_count": 19,
   "id": "220f83ee-168e-4dee-8175-1d4042bf1bfa",
   "metadata": {},
   "outputs": [],
   "source": [
    "#Reading the input data\n",
    "tweet_tr=pd.read_csv('train.csv')\n",
    "tweet_tst=pd.read_csv('test.csv')"
   ]
  },
  {
   "cell_type": "code",
   "execution_count": 20,
   "id": "8518757e-df49-4c3a-9d82-f058e9951cd5",
   "metadata": {},
   "outputs": [
    {
     "data": {
      "text/html": [
       "<div>\n",
       "<style scoped>\n",
       "    .dataframe tbody tr th:only-of-type {\n",
       "        vertical-align: middle;\n",
       "    }\n",
       "\n",
       "    .dataframe tbody tr th {\n",
       "        vertical-align: top;\n",
       "    }\n",
       "\n",
       "    .dataframe thead th {\n",
       "        text-align: right;\n",
       "    }\n",
       "</style>\n",
       "<table border=\"1\" class=\"dataframe\">\n",
       "  <thead>\n",
       "    <tr style=\"text-align: right;\">\n",
       "      <th></th>\n",
       "      <th>textID</th>\n",
       "      <th>text</th>\n",
       "      <th>selected_text</th>\n",
       "      <th>sentiment</th>\n",
       "    </tr>\n",
       "  </thead>\n",
       "  <tbody>\n",
       "    <tr>\n",
       "      <th>0</th>\n",
       "      <td>cb774db0d1</td>\n",
       "      <td>I`d have responded, if I were going</td>\n",
       "      <td>I`d have responded, if I were going</td>\n",
       "      <td>neutral</td>\n",
       "    </tr>\n",
       "    <tr>\n",
       "      <th>1</th>\n",
       "      <td>549e992a42</td>\n",
       "      <td>Sooo SAD I will miss you here in San Diego!!!</td>\n",
       "      <td>Sooo SAD</td>\n",
       "      <td>negative</td>\n",
       "    </tr>\n",
       "    <tr>\n",
       "      <th>2</th>\n",
       "      <td>088c60f138</td>\n",
       "      <td>my boss is bullying me...</td>\n",
       "      <td>bullying me</td>\n",
       "      <td>negative</td>\n",
       "    </tr>\n",
       "    <tr>\n",
       "      <th>3</th>\n",
       "      <td>9642c003ef</td>\n",
       "      <td>what interview! leave me alone</td>\n",
       "      <td>leave me alone</td>\n",
       "      <td>negative</td>\n",
       "    </tr>\n",
       "    <tr>\n",
       "      <th>4</th>\n",
       "      <td>358bd9e861</td>\n",
       "      <td>Sons of ****, why couldn`t they put them on t...</td>\n",
       "      <td>Sons of ****,</td>\n",
       "      <td>negative</td>\n",
       "    </tr>\n",
       "  </tbody>\n",
       "</table>\n",
       "</div>"
      ],
      "text/plain": [
       "       textID                                               text  \\\n",
       "0  cb774db0d1                I`d have responded, if I were going   \n",
       "1  549e992a42      Sooo SAD I will miss you here in San Diego!!!   \n",
       "2  088c60f138                          my boss is bullying me...   \n",
       "3  9642c003ef                     what interview! leave me alone   \n",
       "4  358bd9e861   Sons of ****, why couldn`t they put them on t...   \n",
       "\n",
       "                         selected_text sentiment  \n",
       "0  I`d have responded, if I were going   neutral  \n",
       "1                             Sooo SAD  negative  \n",
       "2                          bullying me  negative  \n",
       "3                       leave me alone  negative  \n",
       "4                        Sons of ****,  negative  "
      ]
     },
     "execution_count": 20,
     "metadata": {},
     "output_type": "execute_result"
    }
   ],
   "source": [
    "tweet_tr.head()"
   ]
  },
  {
   "cell_type": "code",
   "execution_count": 21,
   "id": "dae1ca85-e907-4973-b447-92c917bee76b",
   "metadata": {},
   "outputs": [
    {
     "name": "stdout",
     "output_type": "stream",
     "text": [
      "<class 'pandas.core.frame.DataFrame'>\n",
      "RangeIndex: 27481 entries, 0 to 27480\n",
      "Data columns (total 4 columns):\n",
      " #   Column         Non-Null Count  Dtype \n",
      "---  ------         --------------  ----- \n",
      " 0   textID         27481 non-null  object\n",
      " 1   text           27480 non-null  object\n",
      " 2   selected_text  27480 non-null  object\n",
      " 3   sentiment      27481 non-null  object\n",
      "dtypes: object(4)\n",
      "memory usage: 858.9+ KB\n"
     ]
    }
   ],
   "source": [
    "tweet_tr.info()"
   ]
  },
  {
   "cell_type": "code",
   "execution_count": 22,
   "id": "7ab02b52-b297-4128-a63d-c0c7433d6ca1",
   "metadata": {},
   "outputs": [
    {
     "name": "stdout",
     "output_type": "stream",
     "text": [
      "         textID text selected_text sentiment\n",
      "314  fdb77c3752  NaN           NaN   neutral\n"
     ]
    }
   ],
   "source": [
    "print(tweet_tr[tweet_tr['text'].isnull()==True])"
   ]
  },
  {
   "cell_type": "code",
   "execution_count": 23,
   "id": "a842c8a7-26ca-457b-be13-022cc58aad5d",
   "metadata": {},
   "outputs": [],
   "source": [
    "#Deleting the null row of data\n",
    "tweet_tr=tweet_tr.drop(labels=[314],axis=0)"
   ]
  },
  {
   "cell_type": "code",
   "execution_count": 24,
   "id": "2c508872-5f33-433b-a81b-0a450cf1016a",
   "metadata": {},
   "outputs": [
    {
     "name": "stdout",
     "output_type": "stream",
     "text": [
      "<class 'pandas.core.frame.DataFrame'>\n",
      "Int64Index: 27480 entries, 0 to 27480\n",
      "Data columns (total 4 columns):\n",
      " #   Column         Non-Null Count  Dtype \n",
      "---  ------         --------------  ----- \n",
      " 0   textID         27480 non-null  object\n",
      " 1   text           27480 non-null  object\n",
      " 2   selected_text  27480 non-null  object\n",
      " 3   sentiment      27480 non-null  object\n",
      "dtypes: object(4)\n",
      "memory usage: 1.0+ MB\n"
     ]
    }
   ],
   "source": [
    "tweet_tr.info()"
   ]
  },
  {
   "cell_type": "code",
   "execution_count": 25,
   "id": "821b1dfc-2d65-44bd-95fd-c743e3e1cb09",
   "metadata": {},
   "outputs": [
    {
     "name": "stdout",
     "output_type": "stream",
     "text": [
      "<class 'pandas.core.frame.DataFrame'>\n",
      "RangeIndex: 3534 entries, 0 to 3533\n",
      "Data columns (total 3 columns):\n",
      " #   Column     Non-Null Count  Dtype \n",
      "---  ------     --------------  ----- \n",
      " 0   textID     3534 non-null   object\n",
      " 1   text       3534 non-null   object\n",
      " 2   sentiment  3534 non-null   object\n",
      "dtypes: object(3)\n",
      "memory usage: 83.0+ KB\n"
     ]
    }
   ],
   "source": [
    "#Checking test data for null\n",
    "tweet_tst.info()"
   ]
  },
  {
   "cell_type": "markdown",
   "id": "b0d08aa0-73fd-4377-baa0-7db9e4b04692",
   "metadata": {},
   "source": [
    "#All records in test set is clean"
   ]
  },
  {
   "cell_type": "code",
   "execution_count": 34,
   "id": "82c0c922-b31e-458b-9326-9e28fc2642c3",
   "metadata": {},
   "outputs": [
    {
     "name": "stdout",
     "output_type": "stream",
     "text": [
      "542\n",
      "76\n"
     ]
    }
   ],
   "source": [
    "#Check for hashtags in text and select_text\n",
    "text_hash=[]\n",
    "idx=0\n",
    "for i in tweet_tr['text']:\n",
    "    if '#' in i:\n",
    "        text_hash.append(idx)\n",
    "    idx+=1\n",
    "print(len(text_hash))\n",
    "select_text_hash=[]\n",
    "idx=0\n",
    "for i in tweet_tst['text']:\n",
    "    if '#' in i:\n",
    "        select_text_hash.append(idx)\n",
    "    idx+=1\n",
    "print(len(select_text_hash))"
   ]
  },
  {
   "cell_type": "markdown",
   "id": "5a909e63-2398-40f8-aa7d-0c7c076072b0",
   "metadata": {},
   "source": [
    "As both the columns 'text' as well as 'select_text' contains # so we will keep the hastag"
   ]
  },
  {
   "cell_type": "code",
   "execution_count": null,
   "id": "4becf26b-dadb-4f13-a28c-9b64a6984fc6",
   "metadata": {},
   "outputs": [],
   "source": []
  }
 ],
 "metadata": {
  "colab": {
   "name": "Welcome to DataCamp Workspaces.ipynb",
   "provenance": []
  },
  "kernelspec": {
   "display_name": "Python 3 (ipykernel)",
   "language": "python",
   "name": "python3"
  },
  "language_info": {
   "codemirror_mode": {
    "name": "ipython",
    "version": 3
   },
   "file_extension": ".py",
   "mimetype": "text/x-python",
   "name": "python",
   "nbconvert_exporter": "python",
   "pygments_lexer": "ipython3",
   "version": "3.8.10"
  }
 },
 "nbformat": 4,
 "nbformat_minor": 5
}
